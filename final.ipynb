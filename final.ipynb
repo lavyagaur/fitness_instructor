{
  "cells": [
    {
      "cell_type": "code",
      "execution_count": 1,
      "metadata": {
        "colab": {
          "base_uri": "https://localhost:8080/"
        },
        "id": "2devz8Chf-hZ",
        "outputId": "553f673d-129d-470b-fbc5-688501d26f5d"
      },
      "outputs": [
        {
          "name": "stdout",
          "output_type": "stream",
          "text": [
            "Requirement already satisfied: streamlit in c:\\users\\aman_\\appdata\\local\\programs\\python\\python311\\lib\\site-packages (1.36.0)\n",
            "Requirement already satisfied: huggingface_hub in c:\\users\\aman_\\appdata\\local\\programs\\python\\python311\\lib\\site-packages (0.24.0)\n",
            "Requirement already satisfied: accelerate in c:\\users\\aman_\\appdata\\local\\programs\\python\\python311\\lib\\site-packages (0.32.1)\n",
            "Requirement already satisfied: transformers in c:\\users\\aman_\\appdata\\local\\programs\\python\\python311\\lib\\site-packages (4.42.4)\n",
            "Requirement already satisfied: torch in c:\\users\\aman_\\appdata\\local\\programs\\python\\python311\\lib\\site-packages (2.3.1)\n",
            "Requirement already satisfied: langchain in c:\\users\\aman_\\appdata\\local\\programs\\python\\python311\\lib\\site-packages (0.2.10)\n",
            "Requirement already satisfied: altair<6,>=4.0 in c:\\users\\aman_\\appdata\\local\\programs\\python\\python311\\lib\\site-packages (from streamlit) (5.3.0)\n",
            "Requirement already satisfied: blinker<2,>=1.0.0 in c:\\users\\aman_\\appdata\\local\\programs\\python\\python311\\lib\\site-packages (from streamlit) (1.6.2)\n",
            "Requirement already satisfied: cachetools<6,>=4.0 in c:\\users\\aman_\\appdata\\local\\programs\\python\\python311\\lib\\site-packages (from streamlit) (5.3.2)\n",
            "Requirement already satisfied: click<9,>=7.0 in c:\\users\\aman_\\appdata\\local\\programs\\python\\python311\\lib\\site-packages (from streamlit) (8.1.7)\n",
            "Requirement already satisfied: numpy<3,>=1.20 in c:\\users\\aman_\\appdata\\local\\programs\\python\\python311\\lib\\site-packages (from streamlit) (1.24.2)\n",
            "Requirement already satisfied: packaging<25,>=20 in c:\\users\\aman_\\appdata\\local\\programs\\python\\python311\\lib\\site-packages (from streamlit) (23.2)\n",
            "Requirement already satisfied: pandas<3,>=1.3.0 in c:\\users\\aman_\\appdata\\local\\programs\\python\\python311\\lib\\site-packages (from streamlit) (1.5.3)\n",
            "Requirement already satisfied: pillow<11,>=7.1.0 in c:\\users\\aman_\\appdata\\local\\programs\\python\\python311\\lib\\site-packages (from streamlit) (10.2.0)\n",
            "Requirement already satisfied: protobuf<6,>=3.20 in c:\\users\\aman_\\appdata\\local\\programs\\python\\python311\\lib\\site-packages (from streamlit) (3.20.3)\n",
            "Requirement already satisfied: pyarrow>=7.0 in c:\\users\\aman_\\appdata\\local\\programs\\python\\python311\\lib\\site-packages (from streamlit) (16.1.0)\n",
            "Requirement already satisfied: requests<3,>=2.27 in c:\\users\\aman_\\appdata\\local\\programs\\python\\python311\\lib\\site-packages (from streamlit) (2.31.0)\n",
            "Requirement already satisfied: rich<14,>=10.14.0 in c:\\users\\aman_\\appdata\\local\\programs\\python\\python311\\lib\\site-packages (from streamlit) (13.7.1)\n",
            "Requirement already satisfied: tenacity<9,>=8.1.0 in c:\\users\\aman_\\appdata\\local\\programs\\python\\python311\\lib\\site-packages (from streamlit) (8.5.0)\n",
            "Requirement already satisfied: toml<2,>=0.10.1 in c:\\users\\aman_\\appdata\\local\\programs\\python\\python311\\lib\\site-packages (from streamlit) (0.10.2)\n",
            "Requirement already satisfied: typing-extensions<5,>=4.3.0 in c:\\users\\aman_\\appdata\\local\\programs\\python\\python311\\lib\\site-packages (from streamlit) (4.9.0)\n",
            "Requirement already satisfied: gitpython!=3.1.19,<4,>=3.0.7 in c:\\users\\aman_\\appdata\\local\\programs\\python\\python311\\lib\\site-packages (from streamlit) (3.1.43)\n",
            "Requirement already satisfied: pydeck<1,>=0.8.0b4 in c:\\users\\aman_\\appdata\\local\\programs\\python\\python311\\lib\\site-packages (from streamlit) (0.9.1)\n",
            "Requirement already satisfied: tornado<7,>=6.0.3 in c:\\users\\aman_\\appdata\\local\\programs\\python\\python311\\lib\\site-packages (from streamlit) (6.4)\n",
            "Requirement already satisfied: watchdog<5,>=2.1.5 in c:\\users\\aman_\\appdata\\local\\programs\\python\\python311\\lib\\site-packages (from streamlit) (4.0.1)\n",
            "Requirement already satisfied: filelock in c:\\users\\aman_\\appdata\\local\\programs\\python\\python311\\lib\\site-packages (from huggingface_hub) (3.13.1)\n",
            "Requirement already satisfied: fsspec>=2023.5.0 in c:\\users\\aman_\\appdata\\local\\programs\\python\\python311\\lib\\site-packages (from huggingface_hub) (2024.6.1)\n",
            "Requirement already satisfied: pyyaml>=5.1 in c:\\users\\aman_\\appdata\\local\\programs\\python\\python311\\lib\\site-packages (from huggingface_hub) (6.0.1)\n",
            "Requirement already satisfied: tqdm>=4.42.1 in c:\\users\\aman_\\appdata\\local\\programs\\python\\python311\\lib\\site-packages (from huggingface_hub) (4.66.4)\n",
            "Requirement already satisfied: psutil in c:\\users\\aman_\\appdata\\local\\programs\\python\\python311\\lib\\site-packages (from accelerate) (5.9.8)\n",
            "Requirement already satisfied: safetensors>=0.3.1 in c:\\users\\aman_\\appdata\\local\\programs\\python\\python311\\lib\\site-packages (from accelerate) (0.4.3)\n",
            "Requirement already satisfied: regex!=2019.12.17 in c:\\users\\aman_\\appdata\\local\\programs\\python\\python311\\lib\\site-packages (from transformers) (2024.5.15)\n",
            "Requirement already satisfied: tokenizers<0.20,>=0.19 in c:\\users\\aman_\\appdata\\local\\programs\\python\\python311\\lib\\site-packages (from transformers) (0.19.1)\n",
            "Requirement already satisfied: sympy in c:\\users\\aman_\\appdata\\local\\programs\\python\\python311\\lib\\site-packages (from torch) (1.13.0)\n",
            "Requirement already satisfied: networkx in c:\\users\\aman_\\appdata\\local\\programs\\python\\python311\\lib\\site-packages (from torch) (3.2.1)\n",
            "Requirement already satisfied: jinja2 in c:\\users\\aman_\\appdata\\local\\programs\\python\\python311\\lib\\site-packages (from torch) (3.1.2)\n",
            "Requirement already satisfied: mkl<=2021.4.0,>=2021.1.1 in c:\\users\\aman_\\appdata\\local\\programs\\python\\python311\\lib\\site-packages (from torch) (2021.4.0)\n",
            "Requirement already satisfied: SQLAlchemy<3,>=1.4 in c:\\users\\aman_\\appdata\\local\\programs\\python\\python311\\lib\\site-packages (from langchain) (2.0.31)\n",
            "Requirement already satisfied: aiohttp<4.0.0,>=3.8.3 in c:\\users\\aman_\\appdata\\local\\programs\\python\\python311\\lib\\site-packages (from langchain) (3.9.5)\n",
            "Requirement already satisfied: langchain-core<0.3.0,>=0.2.22 in c:\\users\\aman_\\appdata\\local\\programs\\python\\python311\\lib\\site-packages (from langchain) (0.2.22)\n",
            "Requirement already satisfied: langchain-text-splitters<0.3.0,>=0.2.0 in c:\\users\\aman_\\appdata\\local\\programs\\python\\python311\\lib\\site-packages (from langchain) (0.2.2)\n",
            "Requirement already satisfied: langsmith<0.2.0,>=0.1.17 in c:\\users\\aman_\\appdata\\local\\programs\\python\\python311\\lib\\site-packages (from langchain) (0.1.92)\n",
            "Requirement already satisfied: pydantic<3,>=1 in c:\\users\\aman_\\appdata\\local\\programs\\python\\python311\\lib\\site-packages (from langchain) (2.8.2)\n",
            "Requirement already satisfied: aiosignal>=1.1.2 in c:\\users\\aman_\\appdata\\local\\programs\\python\\python311\\lib\\site-packages (from aiohttp<4.0.0,>=3.8.3->langchain) (1.3.1)\n",
            "Requirement already satisfied: attrs>=17.3.0 in c:\\users\\aman_\\appdata\\local\\programs\\python\\python311\\lib\\site-packages (from aiohttp<4.0.0,>=3.8.3->langchain) (23.2.0)\n",
            "Requirement already satisfied: frozenlist>=1.1.1 in c:\\users\\aman_\\appdata\\local\\programs\\python\\python311\\lib\\site-packages (from aiohttp<4.0.0,>=3.8.3->langchain) (1.4.1)\n",
            "Requirement already satisfied: multidict<7.0,>=4.5 in c:\\users\\aman_\\appdata\\local\\programs\\python\\python311\\lib\\site-packages (from aiohttp<4.0.0,>=3.8.3->langchain) (6.0.5)\n",
            "Requirement already satisfied: yarl<2.0,>=1.0 in c:\\users\\aman_\\appdata\\local\\programs\\python\\python311\\lib\\site-packages (from aiohttp<4.0.0,>=3.8.3->langchain) (1.9.4)\n",
            "Requirement already satisfied: jsonschema>=3.0 in c:\\users\\aman_\\appdata\\local\\programs\\python\\python311\\lib\\site-packages (from altair<6,>=4.0->streamlit) (4.21.1)\n",
            "Requirement already satisfied: toolz in c:\\users\\aman_\\appdata\\local\\programs\\python\\python311\\lib\\site-packages (from altair<6,>=4.0->streamlit) (0.12.1)\n",
            "Requirement already satisfied: colorama in c:\\users\\aman_\\appdata\\local\\programs\\python\\python311\\lib\\site-packages (from click<9,>=7.0->streamlit) (0.4.6)\n",
            "Requirement already satisfied: gitdb<5,>=4.0.1 in c:\\users\\aman_\\appdata\\local\\programs\\python\\python311\\lib\\site-packages (from gitpython!=3.1.19,<4,>=3.0.7->streamlit) (4.0.11)\n",
            "Requirement already satisfied: jsonpatch<2.0,>=1.33 in c:\\users\\aman_\\appdata\\local\\programs\\python\\python311\\lib\\site-packages (from langchain-core<0.3.0,>=0.2.22->langchain) (1.33)\n",
            "Requirement already satisfied: orjson<4.0.0,>=3.9.14 in c:\\users\\aman_\\appdata\\local\\programs\\python\\python311\\lib\\site-packages (from langsmith<0.2.0,>=0.1.17->langchain) (3.10.6)\n",
            "Requirement already satisfied: intel-openmp==2021.* in c:\\users\\aman_\\appdata\\local\\programs\\python\\python311\\lib\\site-packages (from mkl<=2021.4.0,>=2021.1.1->torch) (2021.4.0)\n",
            "Requirement already satisfied: tbb==2021.* in c:\\users\\aman_\\appdata\\local\\programs\\python\\python311\\lib\\site-packages (from mkl<=2021.4.0,>=2021.1.1->torch) (2021.13.0)\n",
            "Requirement already satisfied: python-dateutil>=2.8.1 in c:\\users\\aman_\\appdata\\local\\programs\\python\\python311\\lib\\site-packages (from pandas<3,>=1.3.0->streamlit) (2.8.2)\n",
            "Requirement already satisfied: pytz>=2020.1 in c:\\users\\aman_\\appdata\\local\\programs\\python\\python311\\lib\\site-packages (from pandas<3,>=1.3.0->streamlit) (2023.2)\n",
            "Requirement already satisfied: annotated-types>=0.4.0 in c:\\users\\aman_\\appdata\\local\\programs\\python\\python311\\lib\\site-packages (from pydantic<3,>=1->langchain) (0.7.0)\n",
            "Requirement already satisfied: pydantic-core==2.20.1 in c:\\users\\aman_\\appdata\\local\\programs\\python\\python311\\lib\\site-packages (from pydantic<3,>=1->langchain) (2.20.1)\n",
            "Requirement already satisfied: MarkupSafe>=2.0 in c:\\users\\aman_\\appdata\\local\\programs\\python\\python311\\lib\\site-packages (from jinja2->torch) (2.1.3)\n",
            "Requirement already satisfied: charset-normalizer<4,>=2 in c:\\users\\aman_\\appdata\\local\\programs\\python\\python311\\lib\\site-packages (from requests<3,>=2.27->streamlit) (3.3.2)\n",
            "Requirement already satisfied: idna<4,>=2.5 in c:\\users\\aman_\\appdata\\local\\programs\\python\\python311\\lib\\site-packages (from requests<3,>=2.27->streamlit) (3.6)\n",
            "Requirement already satisfied: urllib3<3,>=1.21.1 in c:\\users\\aman_\\appdata\\local\\programs\\python\\python311\\lib\\site-packages (from requests<3,>=2.27->streamlit) (2.2.1)\n",
            "Requirement already satisfied: certifi>=2017.4.17 in c:\\users\\aman_\\appdata\\local\\programs\\python\\python311\\lib\\site-packages (from requests<3,>=2.27->streamlit) (2024.2.2)\n",
            "Requirement already satisfied: markdown-it-py>=2.2.0 in c:\\users\\aman_\\appdata\\local\\programs\\python\\python311\\lib\\site-packages (from rich<14,>=10.14.0->streamlit) (3.0.0)\n",
            "Requirement already satisfied: pygments<3.0.0,>=2.13.0 in c:\\users\\aman_\\appdata\\local\\programs\\python\\python311\\lib\\site-packages (from rich<14,>=10.14.0->streamlit) (2.17.2)\n",
            "Requirement already satisfied: greenlet!=0.4.17 in c:\\users\\aman_\\appdata\\local\\programs\\python\\python311\\lib\\site-packages (from SQLAlchemy<3,>=1.4->langchain) (3.0.3)\n",
            "Requirement already satisfied: mpmath<1.4,>=1.1.0 in c:\\users\\aman_\\appdata\\local\\programs\\python\\python311\\lib\\site-packages (from sympy->torch) (1.3.0)\n",
            "Requirement already satisfied: smmap<6,>=3.0.1 in c:\\users\\aman_\\appdata\\local\\programs\\python\\python311\\lib\\site-packages (from gitdb<5,>=4.0.1->gitpython!=3.1.19,<4,>=3.0.7->streamlit) (5.0.1)\n",
            "Requirement already satisfied: jsonpointer>=1.9 in c:\\users\\aman_\\appdata\\local\\programs\\python\\python311\\lib\\site-packages (from jsonpatch<2.0,>=1.33->langchain-core<0.3.0,>=0.2.22->langchain) (2.4)\n",
            "Requirement already satisfied: jsonschema-specifications>=2023.03.6 in c:\\users\\aman_\\appdata\\local\\programs\\python\\python311\\lib\\site-packages (from jsonschema>=3.0->altair<6,>=4.0->streamlit) (2023.12.1)\n",
            "Requirement already satisfied: referencing>=0.28.4 in c:\\users\\aman_\\appdata\\local\\programs\\python\\python311\\lib\\site-packages (from jsonschema>=3.0->altair<6,>=4.0->streamlit) (0.35.0)\n",
            "Requirement already satisfied: rpds-py>=0.7.1 in c:\\users\\aman_\\appdata\\local\\programs\\python\\python311\\lib\\site-packages (from jsonschema>=3.0->altair<6,>=4.0->streamlit) (0.18.0)\n",
            "Requirement already satisfied: mdurl~=0.1 in c:\\users\\aman_\\appdata\\local\\programs\\python\\python311\\lib\\site-packages (from markdown-it-py>=2.2.0->rich<14,>=10.14.0->streamlit) (0.1.2)\n",
            "Requirement already satisfied: six>=1.5 in c:\\users\\aman_\\appdata\\local\\programs\\python\\python311\\lib\\site-packages (from python-dateutil>=2.8.1->pandas<3,>=1.3.0->streamlit) (1.16.0)\n"
          ]
        },
        {
          "name": "stderr",
          "output_type": "stream",
          "text": [
            "\n",
            "[notice] A new release of pip is available: 24.0 -> 24.1.2\n",
            "[notice] To update, run: python.exe -m pip install --upgrade pip\n"
          ]
        }
      ],
      "source": [
        "!pip install streamlit huggingface_hub accelerate transformers torch langchain"
      ]
    },
    {
      "cell_type": "code",
      "execution_count": 2,
      "metadata": {
        "colab": {
          "base_uri": "https://localhost:8080/"
        },
        "id": "CV7yi0wogEiS",
        "outputId": "011e5872-1b38-440b-cadb-bb0a2be70882"
      },
      "outputs": [
        {
          "name": "stdout",
          "output_type": "stream",
          "text": [
            "Overwriting app.py\n"
          ]
        }
      ],
      "source": [
        "%%writefile app.py\n",
        "import transformers\n",
        "import torch\n",
        "from pprint import pprint\n",
        "import streamlit as st\n",
        "from langchain_core.messages import AIMessage, HumanMessage\n",
        "\n",
        "def load_model_tokenizer(repository):\n",
        "    model = transformers.AutoModelForCausalLM.from_pretrained(\n",
        "        repository,\n",
        "        low_cpu_mem_usage=True,\n",
        "        torch_dtype=torch.float16,\n",
        "        device_map = 'auto'\n",
        "    )\n",
        "    tokenizer = transformers.AutoTokenizer.from_pretrained(repository)\n",
        "    return model, tokenizer\n",
        "\n",
        "\n",
        "def get_response(text, model, tokenizer):\n",
        "    system_message = \"You are a world class fitness instructor and gym trainer, you will give proper exercise and diet plans if asked, always answer the use in detail. Always answer in bullet points.'\"\n",
        "    prompt = f\"<|im_start|>system{system_message}<|im_end|><|im_start|>user\\n{text}<|im_end|>\\n<|im_start|>assistant:\"\n",
        "    input_ids = tokenizer(prompt, return_tensors='pt',truncation=True).input_ids.cuda()\n",
        "    outputs = model.generate(input_ids=input_ids, max_new_tokens=256)\n",
        "    output= tokenizer.batch_decode(outputs.detach().cpu().numpy(), skip_special_tokens=True)[0][len(prompt):]\n",
        "\n",
        "    return output.split(\"<|im_end|>\")[0]\n",
        "\n",
        "\n",
        "st.set_page_config(page_title='Fitness Instructor', page_icon = \"🏃‍♂️\")\n",
        "\n",
        "st.title(\"Fitness Instructor\")\n",
        "\n",
        "\n",
        "##Creating the chat_history\n",
        "if \"chat_history\" not in st.session_state:\n",
        "    st.session_state.chat_history = [\n",
        "        AIMessage(content=\"Hello I am hired as your Fitness Instructor. I will do my best to help you to the best of my Abilities.\")\n",
        "    ]\n",
        "\n",
        "\n",
        "user_query = st.chat_input('Enter your Query here...')\n",
        "\n",
        "if user_query is not None and user_query != \"\":\n",
        "    model, tokenizer = load_model_tokenizer(\"AdityaLavaniya/TinyLlama-Fitness-Instructor\")\n",
        "    response = get_response(user_query, model, tokenizer)\n",
        "\n",
        "    #Updating the chat_history:\n",
        "    st.session_state.chat_history.append(HumanMessage(content = user_query ))\n",
        "    st.session_state.chat_history.append(AIMessage(content = response))\n",
        "\n",
        "\n",
        "    ##Displaying the chat_history in Application\n",
        "    for message in st.session_state.chat_history:\n",
        "        if isinstance(message, AIMessage):\n",
        "            with st.chat_message(\"AI\"):\n",
        "                st.write(message.content)\n",
        "\n",
        "        elif isinstance(message, HumanMessage):\n",
        "            with st.chat_message(\"Human\"):\n",
        "                st.write(message.content)"
      ]
    },
    {
      "cell_type": "code",
      "execution_count": 4,
      "metadata": {
        "colab": {
          "base_uri": "https://localhost:8080/"
        },
        "id": "avdq2qJXgdbe",
        "outputId": "066f5b93-efc5-4850-91c8-7cad3709dbaa"
      },
      "outputs": [
        {
          "name": "stdout",
          "output_type": "stream",
          "text": [
            "^C\n"
          ]
        }
      ],
      "source": [
        "!streamlit run app.py & npx localtunnel --port 8501"
      ]
    },
    {
      "cell_type": "code",
      "execution_count": null,
      "metadata": {
        "id": "NyfWjPoSgeXL"
      },
      "outputs": [],
      "source": []
    }
  ],
  "metadata": {
    "accelerator": "GPU",
    "colab": {
      "gpuType": "T4",
      "provenance": []
    },
    "kernelspec": {
      "display_name": "Python 3",
      "name": "python3"
    },
    "language_info": {
      "codemirror_mode": {
        "name": "ipython",
        "version": 3
      },
      "file_extension": ".py",
      "mimetype": "text/x-python",
      "name": "python",
      "nbconvert_exporter": "python",
      "pygments_lexer": "ipython3",
      "version": "3.11.4"
    }
  },
  "nbformat": 4,
  "nbformat_minor": 0
}
